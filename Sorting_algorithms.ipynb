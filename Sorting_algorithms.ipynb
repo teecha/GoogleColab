{
  "cells": [
    {
      "cell_type": "markdown",
      "metadata": {
        "id": "view-in-github",
        "colab_type": "text"
      },
      "source": [
        "<a href=\"https://colab.research.google.com/github/teecha/GoogleColab/blob/main/Sorting_algorithms.ipynb\" target=\"_parent\"><img src=\"https://colab.research.google.com/assets/colab-badge.svg\" alt=\"Open In Colab\"/></a>"
      ]
    },
    {
      "cell_type": "markdown",
      "metadata": {
        "id": "yTpzHtbESTwg"
      },
      "source": [
        "### Sorting algorithms code implementation and visualization of run times for different sizes of given elements.\n",
        "\n",
        "**The algorithms that are being used are**\n",
        "\n",
        "\n",
        "1.   Merge Sort\n",
        "2.   Heap Sort\n",
        "3.   Quick Sort (Normal quick sort and 3 median quick sort)\n",
        "4.   Insertion Sort\n",
        "5.   Selection Sort\n",
        "6.   Bubble Sort\n",
        "\n",
        "references:\n",
        "\n",
        "\n",
        "*   Stack Overflow\n",
        "*   Geeks for Geeks\n",
        "\n",
        "\n",
        "\n",
        "\n",
        "\n"
      ]
    },
    {
      "cell_type": "markdown",
      "metadata": {
        "id": "MUba0wzAEGQK"
      },
      "source": [
        "### **Merge Sort** (need changes)\n",
        "---\n",
        "\n"
      ]
    },
    {
      "cell_type": "code",
      "execution_count": null,
      "metadata": {
        "id": "XMRA5hW4STNF"
      },
      "outputs": [],
      "source": [
        "def mergeSort(array):\n",
        "    if len(array) > 1 :\n",
        "         # Finding the mid of the arrayay\n",
        "        mid = len(array)//2\n",
        "  \n",
        "        # Dividing the arrayay elements\n",
        "        Left_array = array[:mid]\n",
        "  \n",
        "        # into 2 halves\n",
        "        Right_array = array[mid:]\n",
        "  \n",
        "        # Sorting the first half\n",
        "        mergeSort(Left_array)\n",
        "  \n",
        "        # Sorting the second half\n",
        "        mergeSort(Right_array)\n",
        "  \n",
        "        # Setting the increment variables to zero\n",
        "        i = 0\n",
        "        j = 0\n",
        "        k = 0\n",
        "  \n",
        "        # Copy data to temp array by comparing right and left split arrays Left_array[] and Right_array[]\n",
        "        while i < len(Left_array) and j < len(Right_array):\n",
        "            if Left_array[i] < Right_array[j]:\n",
        "                array[k] = Left_array[i]\n",
        "                i += 1\n",
        "            else:\n",
        "                array[k] = Right_array[j]\n",
        "                j += 1\n",
        "            k += 1\n",
        "  \n",
        "        # Checking if any element was left\n",
        "        while i < len(Left_array):\n",
        "            array[k] = Left_array[i]\n",
        "            i += 1\n",
        "            k += 1\n",
        "  \n",
        "        while j < len(Right_array):\n",
        "            array[k] = Right_array[j]\n",
        "            j += 1\n",
        "            k += 1\n",
        "    return(array)"
      ]
    },
    {
      "cell_type": "markdown",
      "metadata": {
        "id": "EEDhdZ8mEUXV"
      },
      "source": [
        "###**Heap Sort** \n",
        "---"
      ]
    },
    {
      "cell_type": "code",
      "execution_count": null,
      "metadata": {
        "id": "hbM2sROFEEH0"
      },
      "outputs": [],
      "source": [
        "def heap(arr,length,index):\n",
        "    max = index\n",
        "    left_child = 2*index+1\n",
        "    right_child = 2*index+2\n",
        "    if left_child < length and arr[index] < arr[left_child]:\n",
        "        max = left_child\n",
        "    if right_child < length and arr[max] < arr[right_child]:\n",
        "        max = right_child\n",
        "    if max != index:\n",
        "        temp = arr[max]\n",
        "        arr[max] = arr[index]\n",
        "        arr[index] = temp\n",
        "        heap(arr,length,max)\n",
        "\n",
        "def heapsort(arr):\n",
        "    start_time = time.time()\n",
        "    length = len(arr)\n",
        "    x=length+1\n",
        "    for i in reversed(range(x)):\n",
        "        heap(arr,length,i)\n",
        "\n",
        "    for i in reversed(range(length)):\n",
        "        temp = arr[0]\n",
        "        arr[0] = arr[i]\n",
        "        arr[i] = temp\n",
        "        heap(arr,i,0)       \n",
        "    return arr"
      ]
    },
    {
      "cell_type": "markdown",
      "metadata": {
        "id": "nfDAmwBQW2FM"
      },
      "source": [
        "###**Quick Sort**\n",
        "----\n"
      ]
    },
    {
      "cell_type": "code",
      "execution_count": null,
      "metadata": {
        "id": "lTH-O2_ZW101"
      },
      "outputs": [],
      "source": [
        "def partition(arr,low,high):\n",
        "    pivot = arr[high] \n",
        "    #taking the last element as pivot\n",
        "    first = low-1\n",
        "    for i in range(low,high):\n",
        "        if arr[i] <= pivot:\n",
        "            first =first + 1\n",
        "            temp = arr[first]\n",
        "            arr[first] = arr[i]\n",
        "            arr[i] = temp\n",
        "            #exchanging two items \n",
        "    temp = arr[first+1]\n",
        "    arr[first+1] = arr[high]\n",
        "    arr[high] = temp\n",
        "    #exchanging pivot element and first pointer as first gets bigger than right pointer\n",
        "    return first+1\n",
        "\n",
        "def quicksort(arr,low,high):\n",
        "    start_time = time.time()\n",
        "    if low<high:\n",
        "        length = partition(arr,low,high)\n",
        "        quicksort(arr,low,length-1)\n",
        "        quicksort(arr,length+1,high)\n",
        "    return arr\n"
      ]
    },
    {
      "cell_type": "markdown",
      "metadata": {
        "id": "J4UBMSPauYqq"
      },
      "source": [
        "###**Quick Sort - using 3 median method**\n",
        "----"
      ]
    },
    {
      "cell_type": "code",
      "execution_count": null,
      "metadata": {
        "id": "dpvTlN2nuYUS"
      },
      "outputs": [],
      "source": [
        "#quicksort median of three item as pivot\n",
        "def find_pivot(arr,low,high):\n",
        "    mid = (low+high)//2\n",
        "    if arr[low]<=arr[mid]:\n",
        "        if arr[mid]<=arr[high]:\n",
        "            pivot = arr[mid]\n",
        "            temp = arr[mid]\n",
        "            arr[mid] = arr[high]\n",
        "            arr[high] = temp\n",
        "        elif arr[mid] > arr[high]:\n",
        "            if arr[high] > arr[low]:\n",
        "                pivot = arr[high]\n",
        "            else:\n",
        "                pivot = arr[low]\n",
        "                temp = arr[low]\n",
        "                arr[low] = arr[high]\n",
        "                arr[high] = temp\n",
        "    else:\n",
        "        if arr[mid] > arr[high]:\n",
        "            pivot = arr[mid]\n",
        "            temp = arr[mid]\n",
        "            arr[mid] = arr[low]\n",
        "            arr[low] = arr[high]\n",
        "            arr[high] = temp\n",
        "        elif arr[high] > arr[mid]:\n",
        "            if arr[high] <= arr[low]:        \n",
        "                pivot = arr[high]\n",
        "                temp = arr[low]\n",
        "                arr[low] = arr[mid]\n",
        "                arr[mid] = temp\n",
        "            else:\n",
        "                pivot = arr[low]\n",
        "                temp = arr[high]\n",
        "                arr[high] = arr[low]\n",
        "                arr[low] = arr[mid]\n",
        "                arr[mid] = temp\n",
        "    return pivot\n",
        "\n",
        "def partition(arr,low,high):\n",
        "    pivot = find_pivot(arr,low,high)\n",
        "    first = low-1\n",
        "    for i in range(low,high):\n",
        "        if arr[i]<=pivot:\n",
        "            first = first + 1\n",
        "            temp = arr[first]\n",
        "            arr[first] = arr[i]\n",
        "            arr[i] = temp\n",
        "    temp = arr[first+1]\n",
        "    arr[first+1] = arr[high]\n",
        "    arr[high] = temp\n",
        "    return first+1\n",
        "\n",
        "def quicksortmed(arr,low,high):\n",
        "    start_time = time.time()\n",
        "    if low<high:\n",
        "        length = partition(arr,low,high)\n",
        "        quicksortmed(arr,low,length-1)\n",
        "        quicksortmed(arr,length+1,high)\n",
        "    return arr"
      ]
    },
    {
      "cell_type": "markdown",
      "metadata": {
        "id": "tXnXWCH8uosM"
      },
      "source": [
        "###**Insertion Sort**\n",
        "----"
      ]
    },
    {
      "cell_type": "code",
      "execution_count": null,
      "metadata": {
        "id": "5iRAUZF9uscv"
      },
      "outputs": [],
      "source": [
        "def insertion(array):\n",
        "  length=len(array)\n",
        "  for i in range(1,length):\n",
        "    key=array[i]\n",
        "    j=i-1\n",
        "    while j>=0 and key< array[j]:\n",
        "      array[j+1]=array[j]\n",
        "      j=j-1\n",
        "    else:\n",
        "      array[j+1]=key\n",
        "  return(array)"
      ]
    },
    {
      "cell_type": "markdown",
      "metadata": {
        "id": "SCkmV4Cxus2I"
      },
      "source": [
        "###**Selection Sort**\n",
        "----"
      ]
    },
    {
      "cell_type": "code",
      "execution_count": null,
      "metadata": {
        "id": "FAUoUVHauyZm"
      },
      "outputs": [],
      "source": [
        "#Selection Sort logic\n",
        "def Minimum(array):\n",
        "    min = 0\n",
        "    for index in range(1, len(array)):\n",
        "        if array[index] < array[min]:\n",
        "            min = index\n",
        "    return min\n",
        "\n",
        "def selectionsort(array):\n",
        "    for index in range(len(array)):\n",
        "        minLocation = Minimum(array[index:]) + index\n",
        "        if minLocation is not index:\n",
        "            x = array[index]\n",
        "            array[index] = array[minLocation]\n",
        "            array[minLocation] = x\n",
        "    return(array)"
      ]
    },
    {
      "cell_type": "markdown",
      "metadata": {
        "id": "rs984-MbuzLD"
      },
      "source": [
        "###**Bubble Sort**\n",
        "----\n"
      ]
    },
    {
      "cell_type": "code",
      "execution_count": null,
      "metadata": {
        "id": "Jdq-eb6LvJgp"
      },
      "outputs": [],
      "source": [
        "# Bubble sort-1\n",
        "\n",
        "#BubbleSort Logic\n",
        "def bubblesort(list):\n",
        "    for index in range(len(list)):\n",
        "        for index2 in range(len(list) - 1):\n",
        "            if list[index2] > list[index]:\n",
        "                list[index2], list[index] = list[index], list[index2]\n",
        "    return(list)"
      ]
    },
    {
      "cell_type": "markdown",
      "metadata": {
        "id": "iUpbIVtavQUe"
      },
      "source": [
        "\n",
        "###**Visualization and driver for the above sorting algorithms**\n",
        "----"
      ]
    },
    {
      "cell_type": "code",
      "execution_count": null,
      "metadata": {
        "colab": {
          "background_save": true,
          "base_uri": "https://localhost:8080/"
        },
        "id": "U4BgDbGevccC",
        "outputId": "f065ad24-d0d5-405e-8274-52192fcb6b70"
      },
      "outputs": [
        {
          "name": "stdout",
          "output_type": "stream",
          "text": [
            "0: Merge Sort\n",
            "\n",
            "1: Heap Sort\n",
            "\n",
            "2: Quick Sort\n",
            "\n",
            "3: 3 median quick sort\n",
            "\n",
            "4: Insertion Sort\n",
            "\n",
            "5: Selection Sort\n",
            "\n",
            "6: Bubble Sort\n",
            "\n",
            "The array before sorting \n",
            " [1, 22, 7, 54, 7, 899, 55, 41, 4777, 895]\n",
            "The array after sorting \n",
            " [1, 7, 7, 22, 41, 54, 55, 895, 899, 4777]\n"
          ]
        }
      ],
      "source": [
        "import matplotlib.pyplot as plt\n",
        "import random\n",
        "import time\n",
        "\n",
        "if __name__ == '__main__':\n",
        "  sizes = [10,25,50]\n",
        "  sizes_times = []\n",
        "  random_array = []\n",
        "  times = []\n",
        "  sorting_alogs = ['Merge Sort','Heap Sort','Quick Sort','3 median quick sort','Insertion Sort','Selection Sort','Bubble Sort']\n",
        "  func_list = ['mergeSort','heapsort','quicksort','quicksortmed','insertion','selectionsort','bubblesort']\n",
        "  for i in range(0,len(sorting_alogs)):\n",
        "    print(str(i)+\": \"+sorting_alogs[i]+'\\n')\n",
        "  user_need = int(input('please select a sorting algorithm from above '))\n",
        "  for i in sizes:\n",
        "    for j in range(0,i):\n",
        "       random_array.append(int(input(\"enter a value = \")))\n",
        "      #random_array.append(random.randint(0,1000))\n",
        "    print(\"The array before sorting \\n\",random_array)\n",
        "    if user_need == 2:\n",
        "      start_time = time.time()\n",
        "      sorted_array = quicksort(random_array,0,len(random_array)-1)\n",
        "      stop_time = time.time() - start_time\n",
        "      times.append(stop_time)\n",
        "      print(\"The array after sorting \\n\",sorted_array)\n",
        "    elif user_need == 3:\n",
        "      start_time = time.time()\n",
        "      sorted_array = quicksortmed(random_array,0,len(random_array)-1)\n",
        "      stop_time = time.time() - start_time\n",
        "      times.append(stop_time)\n",
        "      print(\"The array after sorting \\n\",sorted_array)\n",
        "    else:\n",
        "      start_time = time.time()\n",
        "      sorted_array = globals()[func_list[user_need]](random_array)\n",
        "      stop_time = time.time() - start_time\n",
        "      times.append(stop_time)\n",
        "      print(\"The array after sorting \\n\",sorted_array)\n",
        "  plt.plot(sizes,times,label = sorting_alogs[user_need])\n",
        "  plt.legend()\n",
        "  plt.title(\"Sizes VS Time for \"+sorting_alogs[user_need])\n",
        "  plt.xlabel(\"different array sizes\")\n",
        "  plt.ylabel(\"time taken for sorting\")\n",
        "  plt.grid()\n",
        "  plt.savefig(sorting_alogs[user_need]+\".png\")\n",
        "  plt.show()\n",
        "\n",
        "\n"
      ]
    },
    {
      "cell_type": "markdown",
      "metadata": {
        "id": "7QN-NyMaASwH"
      },
      "source": [
        "##**Visualization of all the sorting algorithms**\n",
        "---\n"
      ]
    },
    {
      "cell_type": "code",
      "execution_count": null,
      "metadata": {
        "colab": {
          "base_uri": "https://localhost:8080/",
          "height": 621
        },
        "id": "kdV0n3UxsZDT",
        "outputId": "4e7190ba-3daa-475c-823c-f6a87949e998"
      },
      "outputs": [
        {
          "data": {
            "image/png": "[encoded data removed]",
            "text/plain": [
              "<Figure size 864x720 with 1 Axes>"
            ]
          },
          "metadata": {},
          "output_type": "display_data"
        }
      ],
      "source": [
        "sizes = [10,25,50,100]\n",
        "random_array = []\n",
        "plt.figure(figsize=(12,10))\n",
        "for i in func_list:\n",
        "  times = []\n",
        "  for k in sizes:\n",
        "    for j in range(0,k):\n",
        "      random_array.append(random.randint(0,1000))\n",
        "      if False:\n",
        "        pass\n",
        "    if i == 'quicksort':\n",
        "      start_time = time.time()\n",
        "      sorted_array = quicksort(random_array,0,len(random_array)-1)\n",
        "      stop_time = time.time() - start_time\n",
        "      times.append(stop_time)\n",
        "    elif i == 'quicksortmed':\n",
        "      start_time = time.time()\n",
        "      sorted_array = quicksortmed(random_array,0,len(random_array)-1)\n",
        "      stop_time = time.time() - start_time\n",
        "      times.append(stop_time)\n",
        "    else:\n",
        "      start_time = time.time()\n",
        "      sorted_array = i+\"({range})\".format(range = random_array)\n",
        "      stop_time = time.time() - start_time\n",
        "      times.append(stop_time)\n",
        "  plt.plot(sizes,times,label = i)\n",
        "plt.legend(bbox_to_anchor=(1.0, 1.0))\n",
        "plt.grid()\n",
        "plt.title(\"Time vs sorting algorithms\")\n",
        "plt.xlabel(\"Array Sizes\")\n",
        "plt.ylabel(\"Time in Seconds\")\n",
        "plt.savefig(\"timevsalgos.png\")\n",
        "plt.show()"
      ]
    },
    {
      "cell_type": "code",
      "execution_count": null,
      "metadata": {
        "id": "stFl1rni2OY_"
      },
      "outputs": [],
      "source": [
        ""
      ]
    }
  ],
  "metadata": {
    "colab": {
      "collapsed_sections": [],
      "name": "Sorting_algorithms.ipynb",
      "provenance": [],
      "include_colab_link": true
    },
    "kernelspec": {
      "display_name": "Python 3",
      "name": "python3"
    },
    "language_info": {
      "name": "python"
    }
  },
  "nbformat": 4,
  "nbformat_minor": 0
}